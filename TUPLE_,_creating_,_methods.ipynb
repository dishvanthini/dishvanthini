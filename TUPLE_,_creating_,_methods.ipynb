{
  "nbformat": 4,
  "nbformat_minor": 0,
  "metadata": {
    "colab": {
      "provenance": [],
      "authorship_tag": "ABX9TyNc61A9Cb2vIbKAXtfaSB7U",
      "include_colab_link": true
    },
    "kernelspec": {
      "name": "python3",
      "display_name": "Python 3"
    },
    "language_info": {
      "name": "python"
    }
  },
  "cells": [
    {
      "cell_type": "markdown",
      "metadata": {
        "id": "view-in-github",
        "colab_type": "text"
      },
      "source": [
        "<a href=\"https://colab.research.google.com/github/dishvanthini/dishvanthini/blob/main/TUPLE_%2C_creating_%2C_methods.ipynb\" target=\"_parent\"><img src=\"https://colab.research.google.com/assets/colab-badge.svg\" alt=\"Open In Colab\"/></a>"
      ]
    },
    {
      "cell_type": "markdown",
      "metadata": {
        "id": "uB6QNdrB1shY"
      },
      "source": [
        "# Tuple\n",
        "   \n",
        "\n",
        "\n",
        "\n",
        "\n",
        "\n",
        "---\n",
        "\n",
        "\n"
      ]
    },
    {
      "cell_type": "code",
      "source": [
        "tup1 = (1, 2, 3)\n",
        "tup2 = 4, 5, 6\n"
      ],
      "metadata": {
        "id": "R2zKnwUn2STM"
      },
      "execution_count": 2,
      "outputs": []
    },
    {
      "cell_type": "code",
      "source": [
        "print(tup1[0])  # Output: 1\n"
      ],
      "metadata": {
        "colab": {
          "base_uri": "https://localhost:8080/"
        },
        "id": "nAJd-GWl2SdD",
        "outputId": "3bdab8cb-a8f9-4833-be6c-30566d54248b"
      },
      "execution_count": 3,
      "outputs": [
        {
          "output_type": "stream",
          "name": "stdout",
          "text": [
            "1\n"
          ]
        }
      ]
    },
    {
      "cell_type": "code",
      "source": [
        "tup3 = tup1 + tup2  # Resulting tuple: (1, 2, 3, 4, 5, 6)\n"
      ],
      "metadata": {
        "id": "EPEsNm9f2SfN"
      },
      "execution_count": 4,
      "outputs": []
    },
    {
      "cell_type": "code",
      "source": [
        "tup4 = tup1 * 3  # Resulting tuple: (1, 2, 3, 1, 2, 3, 1, 2, 3)\n"
      ],
      "metadata": {
        "id": "m8fQP0R72Sh5"
      },
      "execution_count": 5,
      "outputs": []
    },
    {
      "cell_type": "code",
      "source": [
        "for item in tup1:\n",
        "    print(item)\n"
      ],
      "metadata": {
        "colab": {
          "base_uri": "https://localhost:8080/"
        },
        "id": "jhnMLeld2SkB",
        "outputId": "315c51ab-54cd-44c0-d64d-d77083446e05"
      },
      "execution_count": 6,
      "outputs": [
        {
          "output_type": "stream",
          "name": "stdout",
          "text": [
            "1\n",
            "2\n",
            "3\n"
          ]
        }
      ]
    },
    {
      "cell_type": "code",
      "source": [
        "tup = (1, 2, 2, 3, 4, 2)\n",
        "print(tup.count(2))  # Output: 3\n"
      ],
      "metadata": {
        "colab": {
          "base_uri": "https://localhost:8080/"
        },
        "id": "mmB30u6i2SmU",
        "outputId": "045a52d8-4aa1-4dea-8f9c-da4acaf96452"
      },
      "execution_count": 7,
      "outputs": [
        {
          "output_type": "stream",
          "name": "stdout",
          "text": [
            "3\n"
          ]
        }
      ]
    },
    {
      "cell_type": "code",
      "source": [
        "tup = (1, 2, 3, 4, 2)\n",
        "print(tup.index(2))  # Output: 1 (index of the first occurrence of 2)\n"
      ],
      "metadata": {
        "colab": {
          "base_uri": "https://localhost:8080/"
        },
        "id": "q9DCtK042SoL",
        "outputId": "93dec2e3-bc2d-45f6-91e1-e977561058c7"
      },
      "execution_count": 8,
      "outputs": [
        {
          "output_type": "stream",
          "name": "stdout",
          "text": [
            "1\n"
          ]
        }
      ]
    },
    {
      "cell_type": "code",
      "metadata": {
        "id": "17KKcqj6lHnC",
        "colab": {
          "base_uri": "https://localhost:8080/"
        },
        "outputId": "414a13e6-ec54-45c0-b9f2-7ac964298c54"
      },
      "source": [
        "## to count element\n",
        "t=('one','two','three',4,'one',4,4)\n",
        "##  0      1     2      3  4   5 6\n",
        "a=t.count('one')\n",
        "print (a)"
      ],
      "execution_count": 9,
      "outputs": [
        {
          "output_type": "stream",
          "name": "stdout",
          "text": [
            "2\n"
          ]
        }
      ]
    },
    {
      "cell_type": "code",
      "metadata": {
        "colab": {
          "base_uri": "https://localhost:8080/",
          "height": 36
        },
        "id": "engLxdyS2Dtb",
        "outputId": "5257d389-9e67-46a3-db42-66c40cfcf38b"
      },
      "source": [
        "## to print index value for element\n",
        "t=('one','two','three',4,'one',4,4)\n",
        "t[4]"
      ],
      "execution_count": 10,
      "outputs": [
        {
          "output_type": "execute_result",
          "data": {
            "text/plain": [
              "'one'"
            ],
            "application/vnd.google.colaboratory.intrinsic+json": {
              "type": "string"
            }
          },
          "metadata": {},
          "execution_count": 10
        }
      ]
    },
    {
      "cell_type": "code",
      "metadata": {
        "id": "FPrlnKo_Ok6J",
        "colab": {
          "base_uri": "https://localhost:8080/"
        },
        "outputId": "527d6afb-f77f-465d-fdb3-d257738e40d4"
      },
      "source": [
        "## to print last element\n",
        "t=('one','two','three',4,'one',4,4)\n",
        "t[-1]"
      ],
      "execution_count": 11,
      "outputs": [
        {
          "output_type": "execute_result",
          "data": {
            "text/plain": [
              "4"
            ]
          },
          "metadata": {},
          "execution_count": 11
        }
      ]
    },
    {
      "cell_type": "code",
      "metadata": {
        "id": "PMa6i8kL2C9m",
        "colab": {
          "base_uri": "https://localhost:8080/"
        },
        "outputId": "6b88e24b-046b-4429-ec59-77a79f827e0a"
      },
      "source": [
        "### to know type\n",
        "t=('one','two','three',4,'one',4,4)\n",
        "type (t)"
      ],
      "execution_count": 12,
      "outputs": [
        {
          "output_type": "execute_result",
          "data": {
            "text/plain": [
              "tuple"
            ]
          },
          "metadata": {},
          "execution_count": 12
        }
      ]
    },
    {
      "cell_type": "code",
      "metadata": {
        "id": "3VyZ3lM52DXJ",
        "colab": {
          "base_uri": "https://localhost:8080/"
        },
        "outputId": "738a5ff5-72ed-4381-b36b-3f2b09f81d1c"
      },
      "source": [
        "## to add tuple\n",
        "a=(1,3,4,5,67)\n",
        "b=(1,4,5,78,89)\n",
        "c=a+b\n",
        "print(c)\n"
      ],
      "execution_count": 13,
      "outputs": [
        {
          "output_type": "stream",
          "name": "stdout",
          "text": [
            "(1, 3, 4, 5, 67, 1, 4, 5, 78, 89)\n"
          ]
        }
      ]
    },
    {
      "cell_type": "code",
      "metadata": {
        "id": "V8DoAgG2lUB_",
        "colab": {
          "base_uri": "https://localhost:8080/"
        },
        "outputId": "30e68ea5-3796-4263-9e4f-df2ecd4beb1e"
      },
      "source": [
        "## to print max value\n",
        "a=(1,3,4,5,67)\n",
        "max(a)"
      ],
      "execution_count": 14,
      "outputs": [
        {
          "output_type": "execute_result",
          "data": {
            "text/plain": [
              "67"
            ]
          },
          "metadata": {},
          "execution_count": 14
        }
      ]
    },
    {
      "cell_type": "code",
      "metadata": {
        "colab": {
          "base_uri": "https://localhost:8080/"
        },
        "id": "xo80L5OqNreP",
        "outputId": "1cf1dedb-1352-4254-e0ef-db1091a2c8da"
      },
      "source": [
        "## to print min value\n",
        "a=(1,3,4,5,67)\n",
        "min(a)"
      ],
      "execution_count": 15,
      "outputs": [
        {
          "output_type": "execute_result",
          "data": {
            "text/plain": [
              "1"
            ]
          },
          "metadata": {},
          "execution_count": 15
        }
      ]
    },
    {
      "cell_type": "code",
      "metadata": {
        "colab": {
          "base_uri": "https://localhost:8080/"
        },
        "id": "CfvQAyQLNzdE",
        "outputId": "af589ac6-12bf-4f71-b5c0-c50ef9c3b5db"
      },
      "source": [
        "## nested tuple\n",
        "channel =(('news',234),('music',354),('cartoon',234))\n",
        "print(channel)\n",
        "print(\"2nd element\",channel[1])"
      ],
      "execution_count": 16,
      "outputs": [
        {
          "output_type": "stream",
          "name": "stdout",
          "text": [
            "(('news', 234), ('music', 354), ('cartoon', 234))\n",
            "2nd element ('music', 354)\n"
          ]
        }
      ]
    }
  ]
}