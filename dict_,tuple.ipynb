{
  "nbformat": 4,
  "nbformat_minor": 0,
  "metadata": {
    "colab": {
      "provenance": [],
      "authorship_tag": "ABX9TyPX1zimW4p0zfBC4FlBBraf",
      "include_colab_link": true
    },
    "kernelspec": {
      "name": "python3",
      "display_name": "Python 3"
    },
    "language_info": {
      "name": "python"
    }
  },
  "cells": [
    {
      "cell_type": "markdown",
      "metadata": {
        "id": "view-in-github",
        "colab_type": "text"
      },
      "source": [
        "<a href=\"https://colab.research.google.com/github/dishvanthini/dishvanthini/blob/main/dict_%2Ctuple.ipynb\" target=\"_parent\"><img src=\"https://colab.research.google.com/assets/colab-badge.svg\" alt=\"Open In Colab\"/></a>"
      ]
    },
    {
      "cell_type": "markdown",
      "metadata": {
        "id": "fHvk82M7UI3r"
      },
      "source": [
        "### Dictionaries\n",
        "\n",
        "1.  Unordered mapping for sorting object\n",
        "2.  Cannot be sorted\n",
        "\n",
        "\n",
        "       use {} and :\n",
        "       {'key': 'value','key':'value }\n",
        "\n",
        "\n",
        "\n"
      ]
    },
    {
      "cell_type": "markdown",
      "metadata": {
        "id": "9Med5Cs0UFzF"
      },
      "source": []
    },
    {
      "cell_type": "code",
      "metadata": {
        "id": "fiUORJzCU9Sb",
        "colab": {
          "base_uri": "https://localhost:8080/"
        },
        "outputId": "b901c791-6494-4f0b-d0de-6712bfaaeac0"
      },
      "source": [
        "## dict\n",
        "dict={'banu':'name','age':6,'std':'2nd'}\n",
        "print(dict)"
      ],
      "execution_count": null,
      "outputs": [
        {
          "output_type": "stream",
          "text": [
            "{'banu': 'name', 'age': 6, 'std': '2nd'}\n"
          ],
          "name": "stdout"
        }
      ]
    },
    {
      "cell_type": "markdown",
      "metadata": {
        "id": "mlu-SdmtT7Qn"
      },
      "source": [
        "to display value of age"
      ]
    },
    {
      "cell_type": "code",
      "metadata": {
        "colab": {
          "base_uri": "https://localhost:8080/"
        },
        "id": "7oswsB87VW6t",
        "outputId": "92d13b1c-11f1-4040-eef4-6e9efdd16bc7"
      },
      "source": [
        "dict['age']"
      ],
      "execution_count": null,
      "outputs": [
        {
          "output_type": "execute_result",
          "data": {
            "text/plain": [
              "6"
            ]
          },
          "metadata": {
            "tags": []
          },
          "execution_count": 5
        }
      ]
    },
    {
      "cell_type": "markdown",
      "metadata": {
        "id": "kjBROC_uWHcR"
      },
      "source": [
        "**To replace value**"
      ]
    },
    {
      "cell_type": "code",
      "metadata": {
        "colab": {
          "base_uri": "https://localhost:8080/"
        },
        "id": "02_1WsdLZ7pv",
        "outputId": "de10aa52-4241-476b-9fbe-1c2e5bda87f9"
      },
      "source": [
        "fruit_cost={'mango':209,'orange':150,'banana':100,}\n",
        "print(fruit_cost)\n",
        "fruit_cost ['mango']\n"
      ],
      "execution_count": null,
      "outputs": [
        {
          "output_type": "stream",
          "text": [
            "{'mango': 209, 'orange': 150, 'banana': 100}\n"
          ],
          "name": "stdout"
        },
        {
          "output_type": "execute_result",
          "data": {
            "text/plain": [
              "209"
            ]
          },
          "metadata": {
            "tags": []
          },
          "execution_count": 8
        }
      ]
    },
    {
      "cell_type": "code",
      "metadata": {
        "colab": {
          "base_uri": "https://localhost:8080/"
        },
        "id": "dC9bLvm6aZYs",
        "outputId": "48f0ab0f-7584-4275-cea6-e966fe3bbe0b"
      },
      "source": [
        "## to replace value\n",
        "fruit_cost['mango']=210\n",
        "print(fruit_cost)"
      ],
      "execution_count": null,
      "outputs": [
        {
          "output_type": "stream",
          "text": [
            "{'mango': 210, 'orange': 150, 'banana': 100}\n"
          ],
          "name": "stdout"
        }
      ]
    },
    {
      "cell_type": "markdown",
      "metadata": {
        "id": "Ek1z3alkbLJ8"
      },
      "source": [
        "**To display only the key**"
      ]
    },
    {
      "cell_type": "code",
      "metadata": {
        "colab": {
          "base_uri": "https://localhost:8080/"
        },
        "id": "XAxMzcfkbUgn",
        "outputId": "774be8bf-f828-4af1-e69c-90d7c65c3d09"
      },
      "source": [
        "fruit_cost={'mango':210,'orange':150,'banana':100,}\n",
        "print(fruit_cost)"
      ],
      "execution_count": null,
      "outputs": [
        {
          "output_type": "stream",
          "text": [
            "{'mango': 210, 'orange': 150, 'banana': 100}\n"
          ],
          "name": "stdout"
        }
      ]
    },
    {
      "cell_type": "code",
      "metadata": {
        "colab": {
          "base_uri": "https://localhost:8080/"
        },
        "id": "BAmmKWAXba4w",
        "outputId": "332da75a-cf90-4d0b-f46e-5437d6344ba8"
      },
      "source": [
        "fruit_cost.keys()"
      ],
      "execution_count": null,
      "outputs": [
        {
          "output_type": "execute_result",
          "data": {
            "text/plain": [
              "dict_keys(['mango', 'orange', 'banana'])"
            ]
          },
          "metadata": {
            "tags": []
          },
          "execution_count": 17
        }
      ]
    },
    {
      "cell_type": "markdown",
      "metadata": {
        "id": "RRUVfkggbtyn"
      },
      "source": [
        "**To display only the values**"
      ]
    },
    {
      "cell_type": "code",
      "metadata": {
        "colab": {
          "base_uri": "https://localhost:8080/"
        },
        "id": "KzrFdbimb2eC",
        "outputId": "283e1797-633b-4198-f778-9f4ffdf54f40"
      },
      "source": [
        "fruit_cost.values()"
      ],
      "execution_count": null,
      "outputs": [
        {
          "output_type": "execute_result",
          "data": {
            "text/plain": [
              "dict_values([210, 150, 100])"
            ]
          },
          "metadata": {
            "tags": []
          },
          "execution_count": 18
        }
      ]
    },
    {
      "cell_type": "markdown",
      "metadata": {
        "id": "1QYbU7Ohb_tv"
      },
      "source": [
        "**To display both key and value**"
      ]
    },
    {
      "cell_type": "code",
      "metadata": {
        "colab": {
          "base_uri": "https://localhost:8080/"
        },
        "id": "B6nKx04Mb7fN",
        "outputId": "2f82aad7-da47-44b4-8317-aa3c6469f6a9"
      },
      "source": [
        "fruit_cost.items()"
      ],
      "execution_count": null,
      "outputs": [
        {
          "output_type": "execute_result",
          "data": {
            "text/plain": [
              "dict_items([('mango', 210), ('orange', 150), ('banana', 100)])"
            ]
          },
          "metadata": {
            "tags": []
          },
          "execution_count": 19
        }
      ]
    },
    {
      "cell_type": "markdown",
      "metadata": {
        "id": "ugLueXTBcjcu"
      },
      "source": [
        "**Nested dict**"
      ]
    },
    {
      "cell_type": "code",
      "metadata": {
        "colab": {
          "base_uri": "https://localhost:8080/"
        },
        "id": "pIMoOAkNcGLt",
        "outputId": "ecf212f4-7319-4680-d762-380b2113c5ea"
      },
      "source": [
        "d={'k':2,'k2':[3,4,5,6],'k3':{'nested_dict':1}}\n",
        "##             0 1 2 3\n",
        "print ('value of k is ',d['k'])\n",
        "print('2nd element in k2 :',d['k2'][1])\n",
        "print('value of k3 ',d['k3'])"
      ],
      "execution_count": null,
      "outputs": [
        {
          "output_type": "stream",
          "text": [
            "value of k is  2\n",
            "2nd element in k2 : 4\n",
            "value of k3  {'nested_dict': 1}\n"
          ],
          "name": "stdout"
        }
      ]
    },
    {
      "cell_type": "markdown",
      "metadata": {
        "id": "BSvjVVtseNMj"
      },
      "source": [
        "to print the nested value of k3"
      ]
    },
    {
      "cell_type": "code",
      "metadata": {
        "colab": {
          "base_uri": "https://localhost:8080/"
        },
        "id": "-mufb5iRcqW2",
        "outputId": "6952cf81-bfbe-48a9-b39a-6f46b4f84af8"
      },
      "source": [
        "d['k3']['nested_dict']"
      ],
      "execution_count": null,
      "outputs": [
        {
          "output_type": "execute_result",
          "data": {
            "text/plain": [
              "17"
            ]
          },
          "metadata": {
            "tags": []
          },
          "execution_count": 31
        }
      ]
    },
    {
      "cell_type": "markdown",
      "metadata": {
        "id": "5VN5wRn7epgh"
      },
      "source": [
        "To add element"
      ]
    },
    {
      "cell_type": "code",
      "metadata": {
        "colab": {
          "base_uri": "https://localhost:8080/"
        },
        "id": "qkKvh8Q8eag2",
        "outputId": "5a4e3847-894d-45cf-beea-8555e151821c"
      },
      "source": [
        "d"
      ],
      "execution_count": null,
      "outputs": [
        {
          "output_type": "execute_result",
          "data": {
            "text/plain": [
              "{'k': 2, 'k2': [3, 4, 5, 6], 'k3': {'nested_dict': 17}}"
            ]
          },
          "metadata": {
            "tags": []
          },
          "execution_count": 32
        }
      ]
    },
    {
      "cell_type": "code",
      "metadata": {
        "colab": {
          "base_uri": "https://localhost:8080/"
        },
        "id": "hLgZM6fxesef",
        "outputId": "aa61f92c-4041-40e3-8ad1-1a05c0e21bdd"
      },
      "source": [
        "#adding 7 to k2\n",
        "d['k2'].append('7')\n",
        "print('after adding new value:\\n',d)"
      ],
      "execution_count": null,
      "outputs": [
        {
          "output_type": "stream",
          "text": [
            "after adding new value:\n",
            " {'k': 2, 'k2': [3, 4, 5, 6, '7'], 'k3': {'nested_dict': 1}}\n"
          ],
          "name": "stdout"
        }
      ]
    },
    {
      "cell_type": "markdown",
      "metadata": {
        "id": "naj4eZm7gb1Z"
      },
      "source": [
        "To remove last element...pop"
      ]
    },
    {
      "cell_type": "code",
      "metadata": {
        "colab": {
          "base_uri": "https://localhost:8080/",
          "height": 35
        },
        "id": "573EkocofenD",
        "outputId": "0d1732f9-d04b-434f-ac1b-daa6f4e42ea5"
      },
      "source": [
        "d['k2'].pop()"
      ],
      "execution_count": null,
      "outputs": [
        {
          "output_type": "execute_result",
          "data": {
            "application/vnd.google.colaboratory.intrinsic+json": {
              "type": "string"
            },
            "text/plain": [
              "'7'"
            ]
          },
          "metadata": {
            "tags": []
          },
          "execution_count": 46
        }
      ]
    },
    {
      "cell_type": "code",
      "metadata": {
        "colab": {
          "base_uri": "https://localhost:8080/"
        },
        "id": "GgP94RECgXyC",
        "outputId": "a1c276dc-0bf0-4de3-8d8b-26881c4a0415"
      },
      "source": [
        "d\n"
      ],
      "execution_count": null,
      "outputs": [
        {
          "output_type": "execute_result",
          "data": {
            "text/plain": [
              "{'k': 2, 'k2': [3, 4, 5, 6], 'k3': {'nested_dict': 1}}"
            ]
          },
          "metadata": {
            "tags": []
          },
          "execution_count": 47
        }
      ]
    },
    {
      "cell_type": "code",
      "metadata": {
        "colab": {
          "base_uri": "https://localhost:8080/"
        },
        "id": "5g2vban2gaaA",
        "outputId": "8d23f03d-bf9a-4cf2-ebf4-f8fe45c03d80"
      },
      "source": [
        "d['k2'].pop()\n",
        "print(d)"
      ],
      "execution_count": null,
      "outputs": [
        {
          "output_type": "stream",
          "text": [
            "{'k': 2, 'k2': [3, 4], 'k3': {'nested_dict': 1}}\n"
          ],
          "name": "stdout"
        }
      ]
    },
    {
      "cell_type": "markdown",
      "metadata": {
        "id": "OGyKmwLtjMcU"
      },
      "source": [
        "**To del**"
      ]
    },
    {
      "cell_type": "code",
      "metadata": {
        "colab": {
          "base_uri": "https://localhost:8080/"
        },
        "id": "mJDR67vMjUdE",
        "outputId": "00db924a-ffce-43d0-ac84-8637f8cbda6c"
      },
      "source": [
        "print(d)"
      ],
      "execution_count": null,
      "outputs": [
        {
          "output_type": "stream",
          "text": [
            "{'k2': [3, 4]}\n"
          ],
          "name": "stdout"
        }
      ]
    },
    {
      "cell_type": "code",
      "metadata": {
        "colab": {
          "base_uri": "https://localhost:8080/"
        },
        "id": "tSrIHrdMjZTl",
        "outputId": "a6766bfe-bb6a-42aa-9f36-64fe1fee80c7"
      },
      "source": [
        "## particular key\n",
        "del d['k3']\n",
        "print(d)"
      ],
      "execution_count": null,
      "outputs": [
        {
          "output_type": "stream",
          "text": [
            "{'k': 2, 'k2': [3, 4, 5, 6]}\n"
          ],
          "name": "stdout"
        }
      ]
    },
    {
      "cell_type": "code",
      "metadata": {
        "id": "g241QswHjr_4"
      },
      "source": [
        "## to del particular element\n",
        "d.clear()"
      ],
      "execution_count": null,
      "outputs": []
    },
    {
      "cell_type": "code",
      "metadata": {
        "colab": {
          "base_uri": "https://localhost:8080/"
        },
        "id": "dl-78FZHkKII",
        "outputId": "2106ecdb-afa7-476d-e790-c6591e7b6304"
      },
      "source": [
        "d"
      ],
      "execution_count": null,
      "outputs": [
        {
          "output_type": "execute_result",
          "data": {
            "text/plain": [
              "{}"
            ]
          },
          "metadata": {
            "tags": []
          },
          "execution_count": 76
        }
      ]
    },
    {
      "cell_type": "markdown",
      "metadata": {
        "id": "4LalzZjfkd0M"
      },
      "source": [
        "here able to see curly braces this denote that dict is not delete only element is delete"
      ]
    },
    {
      "cell_type": "code",
      "metadata": {
        "id": "6D4Jl2t_kbk9"
      },
      "source": [
        "del d"
      ],
      "execution_count": null,
      "outputs": []
    },
    {
      "cell_type": "code",
      "metadata": {
        "id": "SmKSMKl6kppQ"
      },
      "source": [
        "d"
      ],
      "execution_count": null,
      "outputs": []
    },
    {
      "cell_type": "markdown",
      "metadata": {
        "id": "e3qad6pYlOUL"
      },
      "source": [
        "occur error due to del dict"
      ]
    },
    {
      "cell_type": "markdown",
      "metadata": {
        "id": "mqbN-S1N142N"
      },
      "source": [
        "\n",
        "\n",
        "---\n",
        "\n"
      ]
    },
    {
      "cell_type": "code",
      "metadata": {
        "id": "rR0M34-vCqjg"
      },
      "source": [],
      "execution_count": null,
      "outputs": []
    },
    {
      "cell_type": "code",
      "metadata": {
        "id": "uepY-VNLCqdl"
      },
      "source": [],
      "execution_count": null,
      "outputs": []
    },
    {
      "cell_type": "markdown",
      "metadata": {
        "id": "uB6QNdrB1shY"
      },
      "source": [
        "# Tuple\n",
        "   \n",
        "\n",
        "\n",
        "\n",
        "\n",
        "\n",
        "---\n",
        "\n",
        "\n"
      ]
    },
    {
      "cell_type": "code",
      "metadata": {
        "id": "17KKcqj6lHnC",
        "colab": {
          "base_uri": "https://localhost:8080/"
        },
        "outputId": "e02864eb-1f85-487d-e981-d3bf2b8622a9"
      },
      "source": [
        "## to count element\n",
        "t=('one','two','three',4,'one',4,4)\n",
        "##  0      1     2      3  4   5 6\n",
        "a=t.count('one')\n",
        "print (a)"
      ],
      "execution_count": null,
      "outputs": [
        {
          "output_type": "stream",
          "text": [
            "2\n"
          ],
          "name": "stdout"
        }
      ]
    },
    {
      "cell_type": "code",
      "metadata": {
        "colab": {
          "base_uri": "https://localhost:8080/",
          "height": 35
        },
        "id": "engLxdyS2Dtb",
        "outputId": "08167dde-c779-4cb8-bb08-5b8ace353e4c"
      },
      "source": [
        "## to print index value for element\n",
        "t=('one','two','three',4,'one',4,4)\n",
        "t[4]"
      ],
      "execution_count": null,
      "outputs": [
        {
          "output_type": "execute_result",
          "data": {
            "application/vnd.google.colaboratory.intrinsic+json": {
              "type": "string"
            },
            "text/plain": [
              "'one'"
            ]
          },
          "metadata": {
            "tags": []
          },
          "execution_count": 89
        }
      ]
    },
    {
      "cell_type": "code",
      "metadata": {
        "id": "FPrlnKo_Ok6J",
        "colab": {
          "base_uri": "https://localhost:8080/"
        },
        "outputId": "783800d3-da10-41bd-a532-2b3f2cbc1ab1"
      },
      "source": [
        "## to print last element\n",
        "t=('one','two','three',4,'one',4,4)\n",
        "t[-1]"
      ],
      "execution_count": null,
      "outputs": [
        {
          "output_type": "execute_result",
          "data": {
            "text/plain": [
              "4"
            ]
          },
          "metadata": {
            "tags": []
          },
          "execution_count": 1
        }
      ]
    },
    {
      "cell_type": "code",
      "metadata": {
        "id": "PMa6i8kL2C9m",
        "colab": {
          "base_uri": "https://localhost:8080/"
        },
        "outputId": "8c8eb1b5-b57b-408b-b5e8-f65b46f29b13"
      },
      "source": [
        "### to know type\n",
        "t=('one','two','three',4,'one',4,4)\n",
        "type (t)"
      ],
      "execution_count": null,
      "outputs": [
        {
          "output_type": "execute_result",
          "data": {
            "text/plain": [
              "tuple"
            ]
          },
          "metadata": {
            "tags": []
          },
          "execution_count": 2
        }
      ]
    },
    {
      "cell_type": "code",
      "metadata": {
        "id": "3rQKDKCgoLf8"
      },
      "source": [],
      "execution_count": null,
      "outputs": []
    },
    {
      "cell_type": "code",
      "metadata": {
        "id": "3VyZ3lM52DXJ",
        "colab": {
          "base_uri": "https://localhost:8080/"
        },
        "outputId": "6e27d62e-134c-4602-d192-a93476fcaded"
      },
      "source": [
        "## to add tuple\n",
        "a=(1,3,4,5,67)\n",
        "b=(1,4,5,78,89)\n",
        "c=a+b\n",
        "print(c)\n"
      ],
      "execution_count": null,
      "outputs": [
        {
          "output_type": "stream",
          "text": [
            "(1, 3, 4, 5, 67, 1, 4, 5, 78, 89)\n"
          ],
          "name": "stdout"
        }
      ]
    },
    {
      "cell_type": "code",
      "metadata": {
        "id": "V8DoAgG2lUB_",
        "colab": {
          "base_uri": "https://localhost:8080/"
        },
        "outputId": "b348869f-4cac-4241-97c2-58a8d8b69290"
      },
      "source": [
        "## to print max value\n",
        "a=(1,3,4,5,67)\n",
        "max(a)"
      ],
      "execution_count": null,
      "outputs": [
        {
          "output_type": "execute_result",
          "data": {
            "text/plain": [
              "67"
            ]
          },
          "metadata": {
            "tags": []
          },
          "execution_count": 6
        }
      ]
    },
    {
      "cell_type": "code",
      "metadata": {
        "colab": {
          "base_uri": "https://localhost:8080/"
        },
        "id": "xo80L5OqNreP",
        "outputId": "bdf75be3-0fe5-4881-aed1-94b44037ae41"
      },
      "source": [
        "## to print min value\n",
        "a=(1,3,4,5,67)\n",
        "min(a)"
      ],
      "execution_count": null,
      "outputs": [
        {
          "output_type": "execute_result",
          "data": {
            "text/plain": [
              "1"
            ]
          },
          "metadata": {
            "tags": []
          },
          "execution_count": 7
        }
      ]
    },
    {
      "cell_type": "code",
      "metadata": {
        "colab": {
          "base_uri": "https://localhost:8080/"
        },
        "id": "CfvQAyQLNzdE",
        "outputId": "22668e85-c336-4aaf-c604-8e60312ac1b4"
      },
      "source": [
        "## nested tuple\n",
        "channel =(('news',234),('music',354),('cartoon',234))\n",
        "print(channel)\n",
        "print(\"2nd element\",channel[1])"
      ],
      "execution_count": null,
      "outputs": [
        {
          "output_type": "stream",
          "text": [
            "(('news', 234), ('music', 354), ('cartoon', 234))\n",
            "2nd element ('music', 354)\n"
          ],
          "name": "stdout"
        }
      ]
    }
  ]
}